{
 "cells": [
  {
   "cell_type": "markdown",
   "metadata": {},
   "source": [
    "### Note\n",
    "* Instructions have been included for each segment. You do not have to follow them exactly, but they are included to help you think through the steps."
   ]
  },
  {
   "cell_type": "code",
   "execution_count": 2,
   "metadata": {},
   "outputs": [],
   "source": [
    "# Dependencies and Setup\n",
    "import pandas as pd\n",
    "\n",
    "\n",
    "# File to Load (Remember to Change These)\n",
    "school_data_to_load = \"Resources/schools_complete.csv\"\n",
    "student_data_to_load = \"Resources/students_complete.csv\"\n",
    "\n",
    "# Read School and Student Data File and store into Pandas DataFrames\n",
    "school_data = pd.read_csv(school_data_to_load)\n",
    "student_data = pd.read_csv(student_data_to_load)\n",
    "\n",
    "# Combine the data into a single dataset.  \n",
    "school_data_complete = pd.merge(student_data, school_data, how=\"left\", on=[\"school_name\", \"school_name\"])"
   ]
  },
  {
   "cell_type": "markdown",
   "metadata": {},
   "source": [
    "## District Summary\n",
    "\n",
    "* Calculate the total number of schools\n",
    "\n",
    "* Calculate the total number of students\n",
    "\n",
    "* Calculate the total budget\n",
    "\n",
    "* Calculate the average math score \n",
    "\n",
    "* Calculate the average reading score\n",
    "\n",
    "* Calculate the percentage of students with a passing math score (70 or greater)\n",
    "\n",
    "* Calculate the percentage of students with a passing reading score (70 or greater)\n",
    "\n",
    "* Calculate the percentage of students who passed math **and** reading (% Overall Passing)\n",
    "\n",
    "* Create a dataframe to hold the above results\n",
    "\n",
    "* Optional: give the displayed data cleaner formatting"
   ]
  },
  {
   "cell_type": "code",
   "execution_count": 33,
   "metadata": {},
   "outputs": [
    {
     "ename": "NameError",
     "evalue": "name 'total_students' is not defined",
     "output_type": "error",
     "traceback": [
      "\u001b[0;31m---------------------------------------------------------------------------\u001b[0m",
      "\u001b[0;31mNameError\u001b[0m                                 Traceback (most recent call last)",
      "Input \u001b[0;32mIn [33]\u001b[0m, in \u001b[0;36m<cell line: 16>\u001b[0;34m()\u001b[0m\n\u001b[1;32m     13\u001b[0m math_average \u001b[38;5;241m=\u001b[39m student_data[\u001b[38;5;124m\"\u001b[39m\u001b[38;5;124mmath_score\u001b[39m\u001b[38;5;124m\"\u001b[39m]\u001b[38;5;241m.\u001b[39mmean()\n\u001b[1;32m     14\u001b[0m reading_average \u001b[38;5;241m=\u001b[39m student_data[\u001b[38;5;124m\"\u001b[39m\u001b[38;5;124mreading_score\u001b[39m\u001b[38;5;124m\"\u001b[39m]\u001b[38;5;241m.\u001b[39mmean()\n\u001b[0;32m---> 16\u001b[0m passing_math \u001b[38;5;241m=\u001b[39m \u001b[38;5;28mlen\u001b[39m(student_data[student_data[\u001b[38;5;124m'\u001b[39m\u001b[38;5;124mmath_score\u001b[39m\u001b[38;5;124m'\u001b[39m] \u001b[38;5;241m>\u001b[39m\u001b[38;5;241m=\u001b[39m \u001b[38;5;241m70\u001b[39m]) \u001b[38;5;241m/\u001b[39m \u001b[43mtotal_students\u001b[49m \u001b[38;5;241m*\u001b[39m \u001b[38;5;241m100\u001b[39m\n\u001b[1;32m     17\u001b[0m passing_reading \u001b[38;5;241m=\u001b[39m \u001b[38;5;28mlen\u001b[39m(student_data[student_data[\u001b[38;5;124m'\u001b[39m\u001b[38;5;124mreading_score\u001b[39m\u001b[38;5;124m'\u001b[39m] \u001b[38;5;241m>\u001b[39m\u001b[38;5;241m=\u001b[39m \u001b[38;5;241m70\u001b[39m]) \u001b[38;5;241m/\u001b[39m total_students \u001b[38;5;241m*\u001b[39m \u001b[38;5;241m100\u001b[39m\n\u001b[1;32m     18\u001b[0m passing_overall \u001b[38;5;241m=\u001b[39m \u001b[38;5;28mlen\u001b[39m(student_data[(student_data[\u001b[38;5;124m'\u001b[39m\u001b[38;5;124mreading_score\u001b[39m\u001b[38;5;124m'\u001b[39m] \u001b[38;5;241m>\u001b[39m\u001b[38;5;241m=\u001b[39m \u001b[38;5;241m70\u001b[39m) \u001b[38;5;241m&\u001b[39m (student_data[\u001b[38;5;124m'\u001b[39m\u001b[38;5;124mmath_score\u001b[39m\u001b[38;5;124m'\u001b[39m] \u001b[38;5;241m>\u001b[39m\u001b[38;5;241m=\u001b[39m \u001b[38;5;241m70\u001b[39m)]) \u001b[38;5;241m/\u001b[39m total_students \u001b[38;5;241m*\u001b[39m \u001b[38;5;241m100\u001b[39m\n",
      "\u001b[0;31mNameError\u001b[0m: name 'total_students' is not defined"
     ]
    }
   ],
   "source": [
    "student_data.head()\n",
    "len(student_data)\n",
    "Total_Students = len(student_data)\n",
    "\n",
    "school_count = len(school_data)\n",
    "(school_count)\n",
    "\n",
    "#school_budget =\n",
    "school_data\n",
    "\n",
    "school_data[\"budget\"].sum()\n",
    "\n",
    "math_average = student_data[\"math_score\"].mean()\n",
    "reading_average = student_data[\"reading_score\"].mean()\n",
    "\n",
    "passing_math = len(student_data[student_data['math_score'] >= 70]) / total_students * 100\n",
    "\n",
    "passing_reading = len(student_data[student_data['reading_score'] >= 70]) / total_students * 100\n",
    "\n",
    "passing_overall = len(student_data[(student_data['reading_score'] >= 70) & (student_data['math_score'] >= 70)]) / total_students * 100\n",
    "\n",
    "district_summary = pd.DataFrame({\n",
    "    'Total Schools':[total_schools],\n",
    "    'Total Students':[total_students],\n",
    "    'Total Budget':[total_budget],\n",
    "    'Average Math Score':[avg_score_math],\n",
    "    'Average Reading Score':[avg_score_reading],\n",
    "    '% Passing Math':[passing_math],\n",
    "    '% Passing Reading':[passing_reading],\n",
    "    '% Overall Passing':[passing_overall]\n",
    "}).style.format({\n",
    "    'Total Students':'{:,d}',\n",
    "    'Total Budget':'${:,.2f}'\n",
    "})\n",
    "district_summary"
   ]
  },
  {
   "cell_type": "markdown",
   "metadata": {},
   "source": [
    "## School Summary"
   ]
  },
  {
   "cell_type": "markdown",
   "metadata": {},
   "source": [
    "* Create an overview table that summarizes key metrics about each school, including:\n",
    "  * School Name\n",
    "  * School Type\n",
    "  * Total Students\n",
    "  * Total School Budget\n",
    "  * Per Student Budget\n",
    "  * Average Math Score\n",
    "  * Average Reading Score\n",
    "  * % Passing Math\n",
    "  * % Passing Reading\n",
    "  * % Overall Passing (The percentage of students that passed math **and** reading.)\n",
    "  \n",
    "* Create a dataframe to hold the above results"
   ]
  },
  {
   "cell_type": "code",
   "execution_count": 3,
   "metadata": {},
   "outputs": [
    {
     "data": {
      "text/plain": [
       "school_name\n",
       "Huang High School        District\n",
       "Figueroa High School     District\n",
       "Shelton High School       Charter\n",
       "Hernandez High School    District\n",
       "Griffin High School       Charter\n",
       "Wilson High School        Charter\n",
       "Cabrera High School       Charter\n",
       "Bailey High School       District\n",
       "Holden High School        Charter\n",
       "Pena High School          Charter\n",
       "Wright High School        Charter\n",
       "Rodriguez High School    District\n",
       "Johnson High School      District\n",
       "Ford High School         District\n",
       "Thomas High School        Charter\n",
       "Name: type, dtype: object"
      ]
     },
     "execution_count": 3,
     "metadata": {},
     "output_type": "execute_result"
    }
   ],
   "source": [
    "# school_data\n",
    "#school_type\n",
    "\n",
    "school_types = school_data.set_index('school_name')['type']\n",
    "school_types\n"
   ]
  },
  {
   "cell_type": "code",
   "execution_count": null,
   "metadata": {},
   "outputs": [],
   "source": [
    "# total students per school\n",
    "school_group = school_data_complete.groupby('school_name')\n",
    "students_per_school = school_data_complete['school_name'].value_counts()"
   ]
  },
  {
   "cell_type": "code",
   "execution_count": null,
   "metadata": {},
   "outputs": [],
   "source": [
    "# budget per school \n",
    "budget_per_school = school_group.mean()['budget']"
   ]
  },
  {
   "cell_type": "code",
   "execution_count": null,
   "metadata": {},
   "outputs": [],
   "source": [
    "# budget per student \n",
    "budget_per_student = budget_per_school / students_per_school"
   ]
  },
  {
   "cell_type": "code",
   "execution_count": null,
   "metadata": {},
   "outputs": [],
   "source": [
    "# average math score per school\n",
    "avg_math_score = school_group.mean()['math_score']"
   ]
  },
  {
   "cell_type": "code",
   "execution_count": null,
   "metadata": {},
   "outputs": [],
   "source": [
    "# average reading score per school\n",
    "avg_reading_score = school_group.mean()['reading_score']"
   ]
  },
  {
   "cell_type": "code",
   "execution_count": null,
   "metadata": {},
   "outputs": [],
   "source": [
    "# percent passing math \n",
    "passing_math = school_data_complete[school_data_complete['math_score'] >= 70].groupby('school_name').count()['size']\n",
    "percent_passing_math = passing_math / students_per_school * 100"
   ]
  },
  {
   "cell_type": "code",
   "execution_count": null,
   "metadata": {},
   "outputs": [],
   "source": [
    "# percent passing reading\n",
    "passing_reading = school_data_complete[school_data_complete['reading_score'] >= 70].groupby('school_name').count()['size']\n",
    "percent_passing_reading = passing_reading / students_per_school * 100"
   ]
  },
  {
   "cell_type": "code",
   "execution_count": null,
   "metadata": {},
   "outputs": [],
   "source": [
    "# percent passing math and reading\n",
    "passing_both = school_data_complete[(school_data_complete['math_score'] >= 70) & (school_data_complete['reading_score'] >= 70)].groupby('school_name').count()['size']\n",
    "percent_passing_both = passing_both / students_per_school * 100"
   ]
  },
  {
   "cell_type": "markdown",
   "metadata": {},
   "source": [
    "## Top Performing Schools (By % Overall Passing)"
   ]
  },
  {
   "cell_type": "markdown",
   "metadata": {},
   "source": [
    "* Sort and display the top five performing schools by % overall passing."
   ]
  },
  {
   "cell_type": "code",
   "execution_count": null,
   "metadata": {
    "scrolled": true
   },
   "outputs": [],
   "source": [
    "# school_data\n",
    "school_summary.sort_values('% Overall Passing', ascending=False).head(5)"
   ]
  },
  {
   "cell_type": "markdown",
   "metadata": {},
   "source": [
    "## Bottom Performing Schools (By % Overall Passing)"
   ]
  },
  {
   "cell_type": "markdown",
   "metadata": {},
   "source": [
    "* Sort and display the five worst-performing schools by % overall passing."
   ]
  },
  {
   "cell_type": "code",
   "execution_count": null,
   "metadata": {},
   "outputs": [],
   "source": [
    "school_summary.sort_values('% Overall Passing').head(5)"
   ]
  },
  {
   "cell_type": "markdown",
   "metadata": {
    "collapsed": true
   },
   "source": [
    "## Math Scores by Grade"
   ]
  },
  {
   "cell_type": "markdown",
   "metadata": {},
   "source": [
    "* Create a table that lists the average Reading Score for students of each grade level (9th, 10th, 11th, 12th) at each school.\n",
    "\n",
    "  * Create a pandas series for each grade. Hint: use a conditional statement.\n",
    "  \n",
    "  * Group each series by school\n",
    "  \n",
    "  * Combine the series into a dataframe\n",
    "  \n",
    "  * Optional: give the displayed data cleaner formatting"
   ]
  },
  {
   "cell_type": "code",
   "execution_count": null,
   "metadata": {},
   "outputs": [],
   "source": [
    "nine = school_data_complete[school_data_complete['grade'] == '9th'].groupby('school_name').mean()['math_score']\n",
    "ten = school_data_complete[school_data_complete['grade'] == '10th'].groupby('school_name').mean()['math_score']\n",
    "eleven = school_data_complete[school_data_complete['grade'] == '11th'].groupby('school_name').mean()['math_score']\n",
    "twelve = school_data_complete[school_data_complete['grade'] == '12th'].groupby('school_name').mean()['math_score']"
   ]
  },
  {
   "cell_type": "code",
   "execution_count": null,
   "metadata": {},
   "outputs": [],
   "source": [
    "math_scores_by_grade = pd.DataFrame({\n",
    "    '9th':nine,\n",
    "    '10th':ten,\n",
    "    '11th':eleven,\n",
    "    '12th':twelve,\n",
    "})\n",
    "math_scores_by_grade.index.name = None\n",
    "math_scores_by_grade"
   ]
  },
  {
   "cell_type": "markdown",
   "metadata": {},
   "source": [
    "## Reading Score by Grade "
   ]
  },
  {
   "cell_type": "markdown",
   "metadata": {},
   "source": [
    "* Perform the same operations as above for reading scores"
   ]
  },
  {
   "cell_type": "code",
   "execution_count": null,
   "metadata": {},
   "outputs": [],
   "source": [
    "nine = school_data_complete[school_data_complete['grade'] == '9th'].groupby('school_name').mean()['reading_score']\n",
    "ten = school_data_complete[school_data_complete['grade'] == '10th'].groupby('school_name').mean()['reading_score']\n",
    "eleven = school_data_complete[school_data_complete['grade'] == '11th'].groupby('school_name').mean()['reading_score']\n",
    "twelve = school_data_complete[school_data_complete['grade'] == '12th'].groupby('school_name').mean()['reading_score']\n",
    "reading_scores_by_grade = pd.DataFrame({\n",
    "    '9th':nine,\n",
    "    '10th':ten,\n",
    "    '11th':eleven,\n",
    "    '12th':twelve,\n",
    "})\n",
    "reading_scores_by_grade.index.name = None\n",
    "reading_scores_by_grade"
   ]
  },
  {
   "cell_type": "markdown",
   "metadata": {},
   "source": [
    "## Scores by School Spending"
   ]
  },
  {
   "cell_type": "markdown",
   "metadata": {},
   "source": [
    "* Create a table that breaks down school performances based on average Spending Ranges (Per Student). Use 4 reasonable bins to group school spending. Include in the table each of the following:\n",
    "  * Average Math Score\n",
    "  * Average Reading Score\n",
    "  * % Passing Math\n",
    "  * % Passing Reading\n",
    "  * Overall Passing Rate (Average of the above two)"
   ]
  },
  {
   "cell_type": "code",
   "execution_count": null,
   "metadata": {},
   "outputs": [],
   "source": [
    "# scores_by_spending\n",
    "# sorted(budget_per_student.tolist())\n",
    "spending_bins = [0, 585, 630, 645, 680]\n",
    "labels = [\"<$585\", \"$585-630\", \"$630-645\", \"$645-680\"]\n",
    "school_spending = school_summary.copy()\n",
    "school_spending['Spending Ranges (Per Student)'] = pd.cut(budget_per_student, spending_bins, labels=labels, right=False)\n",
    "\n",
    "spending_mean = school_spending.groupby('Spending Ranges (Per Student)').mean()\n",
    "\n",
    "spending_score_math = spending_mean['Average Math Score']\n",
    "spending_score_reading = spending_mean['Average Reading Score']\n",
    "spending_passing_math = spending_mean['% Passing Math']\n",
    "spending_passing_reading = spending_mean['% Passing Reading']\n",
    "spending_passing_overall = spending_mean['% Overall Passing']"
   ]
  },
  {
   "cell_type": "code",
   "execution_count": null,
   "metadata": {
    "scrolled": true
   },
   "outputs": [],
   "source": [
    "spending_scores = pd.DataFrame({\n",
    "    \"Average Math Score\": spending_score_math,\n",
    "    \"Average Reading Score\": spending_score_reading,\n",
    "    \"% Passing Math\": spending_passing_math,\n",
    "    \"% Passing Reading\": spending_passing_reading,\n",
    "    \"% Overall Passing\": spending_passing_overall\n",
    "})\n",
    "spending_scores"
   ]
  },
  {
   "cell_type": "markdown",
   "metadata": {},
   "source": [
    "## Scores by School Size"
   ]
  },
  {
   "cell_type": "markdown",
   "metadata": {},
   "source": [
    "* Perform the same operations as above, based on school size."
   ]
  },
  {
   "cell_type": "code",
   "execution_count": 8,
   "metadata": {
    "scrolled": false
   },
   "outputs": [
    {
     "ename": "NameError",
     "evalue": "name 'school_summary' is not defined",
     "output_type": "error",
     "traceback": [
      "\u001b[0;31m---------------------------------------------------------------------------\u001b[0m",
      "\u001b[0;31mNameError\u001b[0m                                 Traceback (most recent call last)",
      "Input \u001b[0;32mIn [8]\u001b[0m, in \u001b[0;36m<cell line: 1>\u001b[0;34m()\u001b[0m\n\u001b[0;32m----> 1\u001b[0m scores_school_type \u001b[38;5;241m=\u001b[39m \u001b[43mschool_summary\u001b[49m\u001b[38;5;241m.\u001b[39mcopy()\n\u001b[1;32m      2\u001b[0m scores_school \u001b[38;5;241m=\u001b[39m scores_school_type\u001b[38;5;241m.\u001b[39mgroupby(\u001b[38;5;124m\"\u001b[39m\u001b[38;5;124mSchool Type\u001b[39m\u001b[38;5;124m\"\u001b[39m)\n",
      "\u001b[0;31mNameError\u001b[0m: name 'school_summary' is not defined"
     ]
    }
   ],
   "source": [
    "size_bins = [0, 1000, 2000, 5000]\n",
    "labels = [\"Small (<1000)\", \"Medium (1000-2000)\", \"Large (2000-5000)\"]\n",
    "\n",
    "school_size = school_summary.copy()\n",
    "school_size['School Size'] = pd.cut(school_size['Total Students'], size_bins, labels=labels, right=False)\n",
    "\n",
    "size_mean = school_size.groupby('School Size').mean()\n",
    "\n",
    "size_score_math = size_mean['Average Math Score']\n",
    "size_score_reading = size_mean['Average Reading Score']\n",
    "size_passing_math = size_mean['% Passing Math']\n",
    "size_passing_reading = size_mean['% Passing Reading']\n",
    "size_passing_overall = size_mean['% Overall Passing']"
   ]
  },
  {
   "cell_type": "code",
   "execution_count": null,
   "metadata": {},
   "outputs": [],
   "source": [
    "size_scores = pd.DataFrame({\n",
    "    \"Average Math Score\": size_score_math,\n",
    "    \"Average Reading Score\": size_score_reading,\n",
    "    \"% Passing Math\": size_passing_math,\n",
    "    \"% Passing Reading\": size_passing_reading,\n",
    "    \"% Overall Passing\": size_passing_overall\n",
    "})\n",
    "size_scores"
   ]
  },
  {
   "cell_type": "markdown",
   "metadata": {},
   "source": [
    "## Scores by School Type"
   ]
  },
  {
   "cell_type": "markdown",
   "metadata": {},
   "source": [
    "* Perform the same operations as above, based on school type"
   ]
  },
  {
   "cell_type": "code",
   "execution_count": null,
   "metadata": {},
   "outputs": [],
   "source": [
    "# variables can allow you to type less\n",
    "type_mean = school_size.groupby('School Type').mean()\n",
    "\n",
    "type_score_math = type_mean['Average Math Score']\n",
    "type_score_reading = type_mean['Average Reading Score']\n",
    "type_passing_math = type_mean['% Passing Math']\n",
    "type_passing_reading = type_mean['% Passing Reading']\n",
    "type_passing_overall = type_mean['% Overall Passing']"
   ]
  },
  {
   "cell_type": "code",
   "execution_count": 36,
   "metadata": {},
   "outputs": [
    {
     "ename": "NameError",
     "evalue": "name 'type_score_math' is not defined",
     "output_type": "error",
     "traceback": [
      "\u001b[0;31m---------------------------------------------------------------------------\u001b[0m",
      "\u001b[0;31mNameError\u001b[0m                                 Traceback (most recent call last)",
      "Input \u001b[0;32mIn [36]\u001b[0m, in \u001b[0;36m<cell line: 1>\u001b[0;34m()\u001b[0m\n\u001b[1;32m      1\u001b[0m type_scores \u001b[38;5;241m=\u001b[39m pd\u001b[38;5;241m.\u001b[39mDataFrame({\n\u001b[0;32m----> 2\u001b[0m     \u001b[38;5;124m\"\u001b[39m\u001b[38;5;124mAverage Math Score\u001b[39m\u001b[38;5;124m\"\u001b[39m: \u001b[43mtype_score_math\u001b[49m,\n\u001b[1;32m      3\u001b[0m     \u001b[38;5;124m\"\u001b[39m\u001b[38;5;124mAverage Reading Score\u001b[39m\u001b[38;5;124m\"\u001b[39m: type_score_reading,\n\u001b[1;32m      4\u001b[0m     \u001b[38;5;124m\"\u001b[39m\u001b[38;5;124m%\u001b[39m\u001b[38;5;124m Passing Math\u001b[39m\u001b[38;5;124m\"\u001b[39m: type_passing_math,\n\u001b[1;32m      5\u001b[0m     \u001b[38;5;124m\"\u001b[39m\u001b[38;5;124m%\u001b[39m\u001b[38;5;124m Passing Reading\u001b[39m\u001b[38;5;124m\"\u001b[39m: type_passing_reading,\n\u001b[1;32m      6\u001b[0m     \u001b[38;5;124m\"\u001b[39m\u001b[38;5;124m%\u001b[39m\u001b[38;5;124m Overall Passing\u001b[39m\u001b[38;5;124m\"\u001b[39m: type_passing_overall\n\u001b[1;32m      7\u001b[0m })\n\u001b[1;32m      8\u001b[0m type_scores\n",
      "\u001b[0;31mNameError\u001b[0m: name 'type_score_math' is not defined"
     ]
    }
   ],
   "source": [
    "type_scores = pd.DataFrame({\n",
    "    \"Average Math Score\": type_score_math,\n",
    "    \"Average Reading Score\": type_score_reading,\n",
    "    \"% Passing Math\": type_passing_math,\n",
    "    \"% Passing Reading\": type_passing_reading,\n",
    "    \"% Overall Passing\": type_passing_overall\n",
    "})\n",
    "type_scores"
   ]
  },
  {
   "cell_type": "code",
   "execution_count": null,
   "metadata": {},
   "outputs": [],
   "source": []
  }
 ],
 "metadata": {
  "anaconda-cloud": {},
  "kernel_info": {
   "name": "python3"
  },
  "kernelspec": {
   "display_name": "Python 3 (ipykernel)",
   "language": "python",
   "name": "python3"
  },
  "language_info": {
   "codemirror_mode": {
    "name": "ipython",
    "version": 3
   },
   "file_extension": ".py",
   "mimetype": "text/x-python",
   "name": "python",
   "nbconvert_exporter": "python",
   "pygments_lexer": "ipython3",
   "version": "3.9.12"
  },
  "latex_envs": {
   "LaTeX_envs_menu_present": true,
   "autoclose": false,
   "autocomplete": true,
   "bibliofile": "biblio.bib",
   "cite_by": "apalike",
   "current_citInitial": 1,
   "eqLabelWithNumbers": true,
   "eqNumInitial": 1,
   "hotkeys": {
    "equation": "Ctrl-E",
    "itemize": "Ctrl-I"
   },
   "labels_anchors": false,
   "latex_user_defs": false,
   "report_style_numbering": false,
   "user_envs_cfg": false
  },
  "nteract": {
   "version": "0.8.4"
  }
 },
 "nbformat": 4,
 "nbformat_minor": 1
}
